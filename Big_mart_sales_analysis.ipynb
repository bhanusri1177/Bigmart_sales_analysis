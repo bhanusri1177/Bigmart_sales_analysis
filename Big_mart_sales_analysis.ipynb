{
 "cells": [
  {
   "cell_type": "code",
   "execution_count": 1,
   "id": "3dd63d08-3096-424f-b67e-88fcf5285f83",
   "metadata": {},
   "outputs": [
    {
     "name": "stdout",
     "output_type": "stream",
     "text": [
      "🔹 First 5 Rows:\n",
      "  Item_Identifier  Item_Weight Item_Fat_Content  Item_Visibility  \\\n",
      "0           FDA15         9.30          Low Fat         0.016047   \n",
      "1           DRC01         5.92          Regular         0.019278   \n",
      "2           FDN15        17.50          Low Fat         0.016760   \n",
      "3           FDX07        19.20          Regular         0.000000   \n",
      "4           NCD19         8.93          Low Fat         0.000000   \n",
      "\n",
      "               Item_Type  Item_MRP Outlet_Identifier  \\\n",
      "0                  Dairy  249.8092            OUT049   \n",
      "1            Soft Drinks   48.2692            OUT018   \n",
      "2                   Meat  141.6180            OUT049   \n",
      "3  Fruits and Vegetables  182.0950            OUT010   \n",
      "4              Household   53.8614            OUT013   \n",
      "\n",
      "   Outlet_Establishment_Year Outlet_Size Outlet_Location_Type  \\\n",
      "0                       1999      Medium               Tier 1   \n",
      "1                       2009      Medium               Tier 3   \n",
      "2                       1999      Medium               Tier 1   \n",
      "3                       1998         NaN               Tier 3   \n",
      "4                       1987        High               Tier 3   \n",
      "\n",
      "         Outlet_Type  Item_Outlet_Sales  \n",
      "0  Supermarket Type1          3735.1380  \n",
      "1  Supermarket Type2           443.4228  \n",
      "2  Supermarket Type1          2097.2700  \n",
      "3      Grocery Store           732.3800  \n",
      "4  Supermarket Type1           994.7052  \n",
      "\n",
      "🔹 Shape of dataset: (8523, 12)\n",
      "\n",
      "🔹 Info:\n",
      "<class 'pandas.core.frame.DataFrame'>\n",
      "RangeIndex: 8523 entries, 0 to 8522\n",
      "Data columns (total 12 columns):\n",
      " #   Column                     Non-Null Count  Dtype  \n",
      "---  ------                     --------------  -----  \n",
      " 0   Item_Identifier            8523 non-null   object \n",
      " 1   Item_Weight                7060 non-null   float64\n",
      " 2   Item_Fat_Content           8523 non-null   object \n",
      " 3   Item_Visibility            8523 non-null   float64\n",
      " 4   Item_Type                  8523 non-null   object \n",
      " 5   Item_MRP                   8523 non-null   float64\n",
      " 6   Outlet_Identifier          8523 non-null   object \n",
      " 7   Outlet_Establishment_Year  8523 non-null   int64  \n",
      " 8   Outlet_Size                6113 non-null   object \n",
      " 9   Outlet_Location_Type       8523 non-null   object \n",
      " 10  Outlet_Type                8523 non-null   object \n",
      " 11  Item_Outlet_Sales          8523 non-null   float64\n",
      "dtypes: float64(4), int64(1), object(7)\n",
      "memory usage: 799.2+ KB\n",
      "None\n",
      "\n",
      "🔹 Statistical Summary:\n",
      "       Item_Weight  Item_Visibility     Item_MRP  Outlet_Establishment_Year  \\\n",
      "count  7060.000000      8523.000000  8523.000000                8523.000000   \n",
      "mean     12.857645         0.066132   140.992782                1997.831867   \n",
      "std       4.643456         0.051598    62.275067                   8.371760   \n",
      "min       4.555000         0.000000    31.290000                1985.000000   \n",
      "25%       8.773750         0.026989    93.826500                1987.000000   \n",
      "50%      12.600000         0.053931   143.012800                1999.000000   \n",
      "75%      16.850000         0.094585   185.643700                2004.000000   \n",
      "max      21.350000         0.328391   266.888400                2009.000000   \n",
      "\n",
      "       Item_Outlet_Sales  \n",
      "count        8523.000000  \n",
      "mean         2181.288914  \n",
      "std          1706.499616  \n",
      "min            33.290000  \n",
      "25%           834.247400  \n",
      "50%          1794.331000  \n",
      "75%          3101.296400  \n",
      "max         13086.964800  \n",
      "\n",
      "🔹 Missing Values:\n",
      "Item_Identifier                 0\n",
      "Item_Weight                  1463\n",
      "Item_Fat_Content                0\n",
      "Item_Visibility                 0\n",
      "Item_Type                       0\n",
      "Item_MRP                        0\n",
      "Outlet_Identifier               0\n",
      "Outlet_Establishment_Year       0\n",
      "Outlet_Size                  2410\n",
      "Outlet_Location_Type            0\n",
      "Outlet_Type                     0\n",
      "Item_Outlet_Sales               0\n",
      "dtype: int64\n"
     ]
    }
   ],
   "source": [
    "import pandas as pd\n",
    "\n",
    "# Load the dataset\n",
    "df = pd.read_csv(\"D:/DS/Projects/Project5- Big_mart_sales_dataset/Data_set/Bigmart_original_dataset.csv\")  # Replace with your file path if needed\n",
    "\n",
    "# Preview the first 5 rows\n",
    "print(\"🔹 First 5 Rows:\")\n",
    "print(df.head())\n",
    "\n",
    "# Check shape of the dataset\n",
    "print(\"\\n🔹 Shape of dataset:\", df.shape)\n",
    "\n",
    "# Summary of columns and data types\n",
    "print(\"\\n🔹 Info:\")\n",
    "print(df.info())\n",
    "\n",
    "# Summary statistics for numerical columns\n",
    "print(\"\\n🔹 Statistical Summary:\")\n",
    "print(df.describe())\n",
    "\n",
    "# Check missing values in each column\n",
    "print(\"\\n🔹 Missing Values:\")\n",
    "print(df.isnull().sum())\n"
   ]
  },
  {
   "cell_type": "code",
   "execution_count": 2,
   "id": "5f686b80-b084-437c-80fe-3091b59651c4",
   "metadata": {},
   "outputs": [
    {
     "name": "stdout",
     "output_type": "stream",
     "text": [
      "Missing values before cleaning:\n",
      " Item_Identifier                 0\n",
      "Item_Weight                  1463\n",
      "Item_Fat_Content                0\n",
      "Item_Visibility                 0\n",
      "Item_Type                       0\n",
      "Item_MRP                        0\n",
      "Outlet_Identifier               0\n",
      "Outlet_Establishment_Year       0\n",
      "Outlet_Size                  2410\n",
      "Outlet_Location_Type            0\n",
      "Outlet_Type                     0\n",
      "Item_Outlet_Sales               0\n",
      "dtype: int64\n"
     ]
    }
   ],
   "source": [
    "# 🔍 Check missing values\n",
    "print(\"Missing values before cleaning:\\n\", df.isnull().sum())\n"
   ]
  },
  {
   "cell_type": "code",
   "execution_count": 3,
   "id": "f35f8061-6d99-4c6c-8af0-ab1072228b2f",
   "metadata": {},
   "outputs": [],
   "source": [
    "# Chcked for duplicates\n",
    "duplicates = df[df.duplicated()]"
   ]
  },
  {
   "cell_type": "code",
   "execution_count": 4,
   "id": "8ca1aafd-5185-4e24-8396-50da0867dcdb",
   "metadata": {},
   "outputs": [
    {
     "name": "stdout",
     "output_type": "stream",
     "text": [
      "Item_Identifier                 0\n",
      "Item_Weight                     0\n",
      "Item_Fat_Content                0\n",
      "Item_Visibility                 0\n",
      "Item_Type                       0\n",
      "Item_MRP                        0\n",
      "Outlet_Identifier               0\n",
      "Outlet_Establishment_Year       0\n",
      "Outlet_Size                  2410\n",
      "Outlet_Location_Type            0\n",
      "Outlet_Type                     0\n",
      "Item_Outlet_Sales               0\n",
      "dtype: int64\n"
     ]
    }
   ],
   "source": [
    "# Step 1: Ensure Item_Weight is treated as numeric\n",
    "df['Item_Weight'] = pd.to_numeric(df['Item_Weight'], errors='coerce')\n",
    "df.columns = df.columns.str.strip()\n",
    "\n",
    "\n",
    "# Step 2: Now calculate the mean and fill missing values\n",
    "df['Item_Weight'] = df['Item_Weight'].fillna(df['Item_Weight'].mean())\n",
    "\n",
    "# Step 3: Check if it worked\n",
    "print(df.isnull().sum())\n"
   ]
  },
  {
   "cell_type": "code",
   "execution_count": 5,
   "id": "a8117caa-916f-43c9-a240-2d972c3412cb",
   "metadata": {},
   "outputs": [
    {
     "name": "stdout",
     "output_type": "stream",
     "text": [
      "Missing Outlet_Size before filling: 2410\n",
      "\n",
      "Most common Outlet_Size per Outlet_Type:\n",
      " Outlet_Type\n",
      "Grocery Store         Small\n",
      "Supermarket Type1     Small\n",
      "Supermarket Type2    Medium\n",
      "Supermarket Type3    Medium\n",
      "Name: Outlet_Size, dtype: object\n",
      "\n",
      "Missing Outlet_Size after filling: 0\n"
     ]
    }
   ],
   "source": [
    "\n",
    "# 1. Show initial missing Outlet_Size values\n",
    "print(\"Missing Outlet_Size before filling:\", df['Outlet_Size'].isnull().sum())\n",
    "\n",
    "# 2. Create a mapping: Most common Outlet_Size per Outlet_Type\n",
    "size_mapping = df.groupby('Outlet_Type')['Outlet_Size'].agg(lambda x: x.mode()[0])\n",
    "print(\"\\nMost common Outlet_Size per Outlet_Type:\\n\", size_mapping)\n",
    "\n",
    "# 3. Function to apply the mapped size where Outlet_Size is missing\n",
    "def fill_outlet_size(row):\n",
    "    if pd.isnull(row['Outlet_Size']):\n",
    "        return size_mapping[row['Outlet_Type']]\n",
    "    else:\n",
    "        return row['Outlet_Size']\n",
    "\n",
    "# 4. Apply the function\n",
    "df['Outlet_Size'] = df.apply(fill_outlet_size, axis=1)\n",
    "\n",
    "# 5. Confirm missing values are handled\n",
    "print(\"\\nMissing Outlet_Size after filling:\", df['Outlet_Size'].isnull().sum())"
   ]
  },
  {
   "cell_type": "code",
   "execution_count": 6,
   "id": "f8b3d746-bb82-46da-8776-663d8fc22142",
   "metadata": {},
   "outputs": [
    {
     "name": "stdout",
     "output_type": "stream",
     "text": [
      "Missing values after cleaning:\n",
      " Item_Identifier              0\n",
      "Item_Weight                  0\n",
      "Item_Fat_Content             0\n",
      "Item_Visibility              0\n",
      "Item_Type                    0\n",
      "Item_MRP                     0\n",
      "Outlet_Identifier            0\n",
      "Outlet_Establishment_Year    0\n",
      "Outlet_Size                  0\n",
      "Outlet_Location_Type         0\n",
      "Outlet_Type                  0\n",
      "Item_Outlet_Sales            0\n",
      "dtype: int64\n"
     ]
    }
   ],
   "source": [
    "print(\"Missing values after cleaning:\\n\", df.isnull().sum())"
   ]
  },
  {
   "cell_type": "code",
   "execution_count": 8,
   "id": "30438b43-3c55-43ce-a15b-d5744a8daacf",
   "metadata": {},
   "outputs": [],
   "source": [
    "# additional col added \n",
    "df['Outlet_Years'] = 2025 - df['Outlet_Establishment_Year']\n"
   ]
  },
  {
   "cell_type": "code",
   "execution_count": 9,
   "id": "32c81568-358d-42b0-b0e0-7e9b10e62799",
   "metadata": {},
   "outputs": [],
   "source": [
    "# Extract first two letters of Item_Identifier and map to a readable category\n",
    "df['Item_Category'] = df['Item_Identifier'].apply(lambda x: x[:2])\n",
    "\n",
    "# Map code to category name\n",
    "category_map = {\n",
    "    'FD': 'Food',\n",
    "    'DR': 'Drinks',\n",
    "    'NC': 'Non-Consumable'\n",
    "}\n",
    "\n",
    "df['Item_Category'] = df['Item_Category'].map(category_map)\n"
   ]
  },
  {
   "cell_type": "code",
   "execution_count": 12,
   "id": "8f78affd-f1f6-43e2-a660-1b6e1e047c72",
   "metadata": {},
   "outputs": [],
   "source": [
    "df['Item_Visibility_MeanRatio'] = df['Item_Visibility'] / df.groupby('Item_Identifier')['Item_Visibility'].transform('mean')\n"
   ]
  },
  {
   "cell_type": "code",
   "execution_count": 13,
   "id": "3ca39819-f2e0-4734-8b09-346dbd3f5890",
   "metadata": {},
   "outputs": [
    {
     "data": {
      "text/html": [
       "<div>\n",
       "<style scoped>\n",
       "    .dataframe tbody tr th:only-of-type {\n",
       "        vertical-align: middle;\n",
       "    }\n",
       "\n",
       "    .dataframe tbody tr th {\n",
       "        vertical-align: top;\n",
       "    }\n",
       "\n",
       "    .dataframe thead th {\n",
       "        text-align: right;\n",
       "    }\n",
       "</style>\n",
       "<table border=\"1\" class=\"dataframe\">\n",
       "  <thead>\n",
       "    <tr style=\"text-align: right;\">\n",
       "      <th></th>\n",
       "      <th>Item_Identifier</th>\n",
       "      <th>Item_Weight</th>\n",
       "      <th>Item_Fat_Content</th>\n",
       "      <th>Item_Visibility</th>\n",
       "      <th>Item_Type</th>\n",
       "      <th>Item_MRP</th>\n",
       "      <th>Outlet_Identifier</th>\n",
       "      <th>Outlet_Establishment_Year</th>\n",
       "      <th>Outlet_Size</th>\n",
       "      <th>Outlet_Location_Type</th>\n",
       "      <th>Outlet_Type</th>\n",
       "      <th>Item_Outlet_Sales</th>\n",
       "      <th>Outlet_Years</th>\n",
       "      <th>Item_Category</th>\n",
       "      <th>Item_Visibility_MeanRatio</th>\n",
       "    </tr>\n",
       "  </thead>\n",
       "  <tbody>\n",
       "    <tr>\n",
       "      <th>0</th>\n",
       "      <td>FDA15</td>\n",
       "      <td>9.30</td>\n",
       "      <td>Low Fat</td>\n",
       "      <td>0.016047</td>\n",
       "      <td>Dairy</td>\n",
       "      <td>249.8092</td>\n",
       "      <td>OUT049</td>\n",
       "      <td>1999</td>\n",
       "      <td>Medium</td>\n",
       "      <td>Tier 1</td>\n",
       "      <td>Supermarket Type1</td>\n",
       "      <td>3735.1380</td>\n",
       "      <td>26</td>\n",
       "      <td>Food</td>\n",
       "      <td>0.922960</td>\n",
       "    </tr>\n",
       "    <tr>\n",
       "      <th>1</th>\n",
       "      <td>DRC01</td>\n",
       "      <td>5.92</td>\n",
       "      <td>Regular</td>\n",
       "      <td>0.019278</td>\n",
       "      <td>Soft Drinks</td>\n",
       "      <td>48.2692</td>\n",
       "      <td>OUT018</td>\n",
       "      <td>2009</td>\n",
       "      <td>Medium</td>\n",
       "      <td>Tier 3</td>\n",
       "      <td>Supermarket Type2</td>\n",
       "      <td>443.4228</td>\n",
       "      <td>16</td>\n",
       "      <td>Drinks</td>\n",
       "      <td>1.003057</td>\n",
       "    </tr>\n",
       "    <tr>\n",
       "      <th>2</th>\n",
       "      <td>FDN15</td>\n",
       "      <td>17.50</td>\n",
       "      <td>Low Fat</td>\n",
       "      <td>0.016760</td>\n",
       "      <td>Meat</td>\n",
       "      <td>141.6180</td>\n",
       "      <td>OUT049</td>\n",
       "      <td>1999</td>\n",
       "      <td>Medium</td>\n",
       "      <td>Tier 1</td>\n",
       "      <td>Supermarket Type1</td>\n",
       "      <td>2097.2700</td>\n",
       "      <td>26</td>\n",
       "      <td>Food</td>\n",
       "      <td>0.831990</td>\n",
       "    </tr>\n",
       "    <tr>\n",
       "      <th>3</th>\n",
       "      <td>FDX07</td>\n",
       "      <td>19.20</td>\n",
       "      <td>Regular</td>\n",
       "      <td>0.000000</td>\n",
       "      <td>Fruits and Vegetables</td>\n",
       "      <td>182.0950</td>\n",
       "      <td>OUT010</td>\n",
       "      <td>1998</td>\n",
       "      <td>Small</td>\n",
       "      <td>Tier 3</td>\n",
       "      <td>Grocery Store</td>\n",
       "      <td>732.3800</td>\n",
       "      <td>27</td>\n",
       "      <td>Food</td>\n",
       "      <td>0.000000</td>\n",
       "    </tr>\n",
       "    <tr>\n",
       "      <th>4</th>\n",
       "      <td>NCD19</td>\n",
       "      <td>8.93</td>\n",
       "      <td>Low Fat</td>\n",
       "      <td>0.000000</td>\n",
       "      <td>Household</td>\n",
       "      <td>53.8614</td>\n",
       "      <td>OUT013</td>\n",
       "      <td>1987</td>\n",
       "      <td>High</td>\n",
       "      <td>Tier 3</td>\n",
       "      <td>Supermarket Type1</td>\n",
       "      <td>994.7052</td>\n",
       "      <td>38</td>\n",
       "      <td>Non-Consumable</td>\n",
       "      <td>0.000000</td>\n",
       "    </tr>\n",
       "  </tbody>\n",
       "</table>\n",
       "</div>"
      ],
      "text/plain": [
       "  Item_Identifier  Item_Weight Item_Fat_Content  Item_Visibility  \\\n",
       "0           FDA15         9.30          Low Fat         0.016047   \n",
       "1           DRC01         5.92          Regular         0.019278   \n",
       "2           FDN15        17.50          Low Fat         0.016760   \n",
       "3           FDX07        19.20          Regular         0.000000   \n",
       "4           NCD19         8.93          Low Fat         0.000000   \n",
       "\n",
       "               Item_Type  Item_MRP Outlet_Identifier  \\\n",
       "0                  Dairy  249.8092            OUT049   \n",
       "1            Soft Drinks   48.2692            OUT018   \n",
       "2                   Meat  141.6180            OUT049   \n",
       "3  Fruits and Vegetables  182.0950            OUT010   \n",
       "4              Household   53.8614            OUT013   \n",
       "\n",
       "   Outlet_Establishment_Year Outlet_Size Outlet_Location_Type  \\\n",
       "0                       1999      Medium               Tier 1   \n",
       "1                       2009      Medium               Tier 3   \n",
       "2                       1999      Medium               Tier 1   \n",
       "3                       1998       Small               Tier 3   \n",
       "4                       1987        High               Tier 3   \n",
       "\n",
       "         Outlet_Type  Item_Outlet_Sales  Outlet_Years   Item_Category  \\\n",
       "0  Supermarket Type1          3735.1380            26            Food   \n",
       "1  Supermarket Type2           443.4228            16          Drinks   \n",
       "2  Supermarket Type1          2097.2700            26            Food   \n",
       "3      Grocery Store           732.3800            27            Food   \n",
       "4  Supermarket Type1           994.7052            38  Non-Consumable   \n",
       "\n",
       "   Item_Visibility_MeanRatio  \n",
       "0                   0.922960  \n",
       "1                   1.003057  \n",
       "2                   0.831990  \n",
       "3                   0.000000  \n",
       "4                   0.000000  "
      ]
     },
     "execution_count": 13,
     "metadata": {},
     "output_type": "execute_result"
    }
   ],
   "source": [
    "df.head()"
   ]
  },
  {
   "cell_type": "code",
   "execution_count": 15,
   "id": "d2e841ec-a480-4014-ae82-8aa945266a47",
   "metadata": {},
   "outputs": [
    {
     "name": "stdout",
     "output_type": "stream",
     "text": [
      "Cleaned dataset saved as 'Bigmart_cleaned_dataset.csv'\n"
     ]
    }
   ],
   "source": [
    "# Save the cleaned and feature-engineered dataset\n",
    "df.to_csv(\"D:/DS/Projects/Project5- Big_mart_sales_dataset/Data_set/Bigmart_cleaned_dataset.csv\", index=False)\n",
    "print(\"Cleaned dataset saved as 'Bigmart_cleaned_dataset.csv'\")\n"
   ]
  },
  {
   "cell_type": "code",
   "execution_count": 16,
   "id": "b5801ace-fefd-49da-acbb-9f7d41ed8f51",
   "metadata": {},
   "outputs": [
    {
     "name": "stdout",
     "output_type": "stream",
     "text": [
      "   Year   Total_Sales\n",
      "0  1985  3.633620e+06\n",
      "1  1987  2.142664e+06\n",
      "2  1997  2.118395e+06\n",
      "3  1998  1.883402e+05\n",
      "4  1999  2.183970e+06\n",
      "5  2002  2.036725e+06\n",
      "6  2004  2.268123e+06\n",
      "7  2007  2.167465e+06\n",
      "8  2009  1.851823e+06\n"
     ]
    }
   ],
   "source": [
    "# Group total sales by Outlet Establishment Year\n",
    "sales_by_estd_year = df.groupby('Outlet_Establishment_Year')['Item_Outlet_Sales'].sum().reset_index()\n",
    "sales_by_estd_year = sales_by_estd_year.sort_values('Outlet_Establishment_Year')\n",
    "\n",
    "# Rename columns for clarity\n",
    "sales_by_estd_year.columns = ['Year', 'Total_Sales']\n",
    "\n",
    "print(sales_by_estd_year)\n"
   ]
  },
  {
   "cell_type": "code",
   "execution_count": 17,
   "id": "7e86eb8f-650b-4049-a6d3-f04055529ce0",
   "metadata": {},
   "outputs": [
    {
     "data": {
      "image/png": "[encoded data removed]",
      "text/plain": [
       "<Figure size 1000x600 with 1 Axes>"
      ]
     },
     "metadata": {},
     "output_type": "display_data"
    }
   ],
   "source": [
    "import matplotlib.pyplot as plt\n",
    "\n",
    "plt.figure(figsize=(10, 6))\n",
    "plt.plot(sales_by_estd_year['Year'], sales_by_estd_year['Total_Sales'], marker='o')\n",
    "plt.title('Total Sales by Outlet Establishment Year')\n",
    "plt.xlabel('Establishment Year')\n",
    "plt.ylabel('Total Sales')\n",
    "plt.grid(True)\n",
    "plt.tight_layout()\n",
    "plt.show()\n"
   ]
  },
  {
   "cell_type": "code",
   "execution_count": null,
   "id": "abc961e0-ad94-4277-a084-3ddeb93fcd5f",
   "metadata": {},
   "outputs": [],
   "source": []
  }
 ],
 "metadata": {
  "kernelspec": {
   "display_name": "Python 3 (ipykernel)",
   "language": "python",
   "name": "python3"
  },
  "language_info": {
   "codemirror_mode": {
    "name": "ipython",
    "version": 3
   },
   "file_extension": ".py",
   "mimetype": "text/x-python",
   "name": "python",
   "nbconvert_exporter": "python",
   "pygments_lexer": "ipython3",
   "version": "3.12.10"
  }
 },
 "nbformat": 4,
 "nbformat_minor": 5
}
